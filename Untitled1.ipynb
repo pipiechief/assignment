{
  "nbformat": 4,
  "nbformat_minor": 0,
  "metadata": {
    "colab": {
      "name": "Untitled1.ipynb",
      "provenance": [],
      "collapsed_sections": []
    },
    "kernelspec": {
      "display_name": "Python 3",
      "name": "python3"
    },
    "language_info": {
      "name": "python"
    }
  },
  "cells": [
    {
      "cell_type": "code",
      "metadata": {
        "id": "6oKPwasArPgW"
      },
      "source": [
        "##mport necessary libraries\n",
        "import numpy as np\n",
        "import pandas as pd\n",
        "import matplotlib.pyplot as plt\n",
        "from sklearn.preprocessing import LabelEncoder,LabelBinarizer\n",
        "from sklearn.preprocessing import OneHotEncoder, MinMaxScaler\n",
        "from sklearn.model_selection import train_test_split\n",
        "from sklearn.linear_model import LinearRegression\n",
        "from sklearn.metrics import confusion_matrix"
      ],
      "execution_count": 206,
      "outputs": []
    },
    {
      "cell_type": "code",
      "metadata": {
        "id": "rMKt4duYsQuY"
      },
      "source": [
        "#load the dataset\n",
        "data_players =pd.read_csv(\"players_20.csv\")"
      ],
      "execution_count": 207,
      "outputs": []
    },
    {
      "cell_type": "code",
      "metadata": {
        "colab": {
          "base_uri": "https://localhost:8080/"
        },
        "id": "A2n3MuLmsfG3",
        "outputId": "3119e762-1eb6-420e-914c-8aeac3a446f7"
      },
      "source": [
        "## check column names\n",
        "data_players.columns"
      ],
      "execution_count": 208,
      "outputs": [
        {
          "output_type": "execute_result",
          "data": {
            "text/plain": [
              "Index(['sofifa_id', 'player_url', 'short_name', 'long_name', 'age', 'dob',\n",
              "       'height_cm', 'weight_kg', 'nationality', 'club',\n",
              "       ...\n",
              "       'lwb', 'ldm', 'cdm', 'rdm', 'rwb', 'lb', 'lcb', 'cb', 'rcb', 'rb'],\n",
              "      dtype='object', length=104)"
            ]
          },
          "metadata": {},
          "execution_count": 208
        }
      ]
    },
    {
      "cell_type": "code",
      "metadata": {
        "colab": {
          "base_uri": "https://localhost:8080/"
        },
        "id": "YLgs4_5GslU4",
        "outputId": "7da6eef8-14b1-496c-8778-ab97a0e0edf9"
      },
      "source": [
        "##check for missing data\n",
        "data_players.isnull().sum()"
      ],
      "execution_count": 209,
      "outputs": [
        {
          "output_type": "execute_result",
          "data": {
            "text/plain": [
              "sofifa_id        0\n",
              "player_url       0\n",
              "short_name       0\n",
              "long_name        0\n",
              "age              0\n",
              "              ... \n",
              "lb            2036\n",
              "lcb           2036\n",
              "cb            2036\n",
              "rcb           2036\n",
              "rb            2036\n",
              "Length: 104, dtype: int64"
            ]
          },
          "metadata": {},
          "execution_count": 209
        }
      ]
    },
    {
      "cell_type": "code",
      "metadata": {
        "id": "L_g5RRXzssTn"
      },
      "source": [
        "### Dealing with categorical fetures missing values\n",
        "##handling missing values\n",
        "\n",
        "data_players['loaned_from']=data_players['loaned_from'].fillna('Unknown')\n",
        "data_players['nation_position']=data_players['nation_position'].fillna('Unknown')\n",
        "data_players['player_traits']=data_players['player_traits'].fillna('Unknown')\n",
        "data_players['joined']=data_players['joined'].fillna('2019-07-10')\n"
      ],
      "execution_count": 210,
      "outputs": []
    },
    {
      "cell_type": "code",
      "metadata": {
        "id": "hB_O85_KtAol"
      },
      "source": [
        "####fill na in numerical data with 0\n",
        "\n",
        "cleaned_data=data_players.fillna(0)"
      ],
      "execution_count": 211,
      "outputs": []
    },
    {
      "cell_type": "code",
      "metadata": {
        "colab": {
          "base_uri": "https://localhost:8080/"
        },
        "id": "oy-TaXV-tF98",
        "outputId": "7efff0a2-c9b1-405f-d6f8-ffb8ca3bc818"
      },
      "source": [
        "cleaned_data.isnull().sum()"
      ],
      "execution_count": 212,
      "outputs": [
        {
          "output_type": "execute_result",
          "data": {
            "text/plain": [
              "sofifa_id     0\n",
              "player_url    0\n",
              "short_name    0\n",
              "long_name     0\n",
              "age           0\n",
              "             ..\n",
              "lb            0\n",
              "lcb           0\n",
              "cb            0\n",
              "rcb           0\n",
              "rb            0\n",
              "Length: 104, dtype: int64"
            ]
          },
          "metadata": {},
          "execution_count": 212
        }
      ]
    },
    {
      "cell_type": "code",
      "metadata": {
        "id": "lPTzPngw7Y1E"
      },
      "source": [
        "####remove unncessarry features for the model\n",
        "reduntant_data=cleaned_data.drop(['age','height_cm','weight_kg','overall','potential','value_eur','international_reputation'\n",
        ",'weak_foot','skill_moves','release_clause_eur','work_rate','preferred_foot',          \n",
        "'pace','shooting','passing','dribbling','defending','physic','gk_diving','gk_handling','gk_kicking',                   \n",
        "'gk_reflexes','gk_speed','gk_positioning','attacking_crossing','attacking_finishing','attacking_heading_accuracy'    \n",
        ",'attacking_short_passing','attacking_volleys','skill_dribbling','skill_curve','skill_fk_accuracy'\n",
        ",'skill_long_passing','skill_ball_control','movement_acceleration','movement_sprint_speed','movement_agility'         \n",
        ",'movement_reactions','movement_balance','power_shot_power','power_jumping'                 \n",
        ",'power_stamina','power_strength','power_long_shots','mentality_aggression','mentality_interceptions' \n",
        ",'mentality_positioning','mentality_vision','mentality_penalties','mentality_composure','defending_marking',            \n",
        "'defending_standing_tackle','defending_sliding_tackle','goalkeeping_diving','goalkeeping_handling',        \n",
        "'goalkeeping_kicking','goalkeeping_positioning','goalkeeping_reflexes'], axis=1) "
      ],
      "execution_count": 213,
      "outputs": []
    },
    {
      "cell_type": "code",
      "metadata": {
        "id": "5aviO7iM9C-8"
      },
      "source": [
        "###Select useful features for model\n",
        "fifa_20 = cleaned_data.drop(reduntant_data, axis=1)"
      ],
      "execution_count": 214,
      "outputs": []
    },
    {
      "cell_type": "code",
      "metadata": {
        "id": "f4IOthpFA9vT"
      },
      "source": [
        "### Encoding categorical features which have effect on the model"
      ],
      "execution_count": 215,
      "outputs": []
    },
    {
      "cell_type": "code",
      "metadata": {
        "id": "Vh9fQyfs_KQD"
      },
      "source": [
        "##encoding work_rate\n",
        "lebel_encoder = LabelBinarizer()\n",
        "fifa_20.work_rate= lebel_encoder.fit_transform(fifa_20.work_rate.values)"
      ],
      "execution_count": 216,
      "outputs": []
    },
    {
      "cell_type": "code",
      "metadata": {
        "id": "mjKvc3akBMd0"
      },
      "source": [
        "###encoding preferred foot\n",
        "lebe_encoder = LabelBinarizer()\n",
        "fifa_20.preferred_foot= lebe_encoder.fit_transform(fifa_20.preferred_foot.values)"
      ],
      "execution_count": 217,
      "outputs": []
    },
    {
      "cell_type": "code",
      "metadata": {
        "id": "gZjdKKpmB_lo"
      },
      "source": [
        "###create a subset of features with maximum correlation with the dependent variable"
      ],
      "execution_count": 218,
      "outputs": []
    },
    {
      "cell_type": "code",
      "metadata": {
        "colab": {
          "base_uri": "https://localhost:8080/",
          "height": 332
        },
        "id": "OtZZ4iplB0Jz",
        "outputId": "e5579ddb-6520-4fab-9b89-73173c392e4f"
      },
      "source": [
        "#### compute correlation\n",
        "\n",
        "correlation=fifa_20.corr()['overall'].sort_values(ascending=False)\n",
        "\n",
        "##absolute value\n",
        "abs_corr=abs(correlation)\n",
        "\n",
        "###selecting relavant feature\n",
        "relavant_features = pd.DataFrame(abs_corr[abs_corr>0.49])\n",
        "relavant_features"
      ],
      "execution_count": 219,
      "outputs": [
        {
          "output_type": "execute_result",
          "data": {
            "text/html": [
              "<div>\n",
              "<style scoped>\n",
              "    .dataframe tbody tr th:only-of-type {\n",
              "        vertical-align: middle;\n",
              "    }\n",
              "\n",
              "    .dataframe tbody tr th {\n",
              "        vertical-align: top;\n",
              "    }\n",
              "\n",
              "    .dataframe thead th {\n",
              "        text-align: right;\n",
              "    }\n",
              "</style>\n",
              "<table border=\"1\" class=\"dataframe\">\n",
              "  <thead>\n",
              "    <tr style=\"text-align: right;\">\n",
              "      <th></th>\n",
              "      <th>overall</th>\n",
              "    </tr>\n",
              "  </thead>\n",
              "  <tbody>\n",
              "    <tr>\n",
              "      <th>overall</th>\n",
              "      <td>1.000000</td>\n",
              "    </tr>\n",
              "    <tr>\n",
              "      <th>movement_reactions</th>\n",
              "      <td>0.864526</td>\n",
              "    </tr>\n",
              "    <tr>\n",
              "      <th>mentality_composure</th>\n",
              "      <td>0.719992</td>\n",
              "    </tr>\n",
              "    <tr>\n",
              "      <th>potential</th>\n",
              "      <td>0.646650</td>\n",
              "    </tr>\n",
              "    <tr>\n",
              "      <th>value_eur</th>\n",
              "      <td>0.638230</td>\n",
              "    </tr>\n",
              "    <tr>\n",
              "      <th>release_clause_eur</th>\n",
              "      <td>0.607130</td>\n",
              "    </tr>\n",
              "    <tr>\n",
              "      <th>power_shot_power</th>\n",
              "      <td>0.567504</td>\n",
              "    </tr>\n",
              "    <tr>\n",
              "      <th>mentality_vision</th>\n",
              "      <td>0.509251</td>\n",
              "    </tr>\n",
              "    <tr>\n",
              "      <th>attacking_short_passing</th>\n",
              "      <td>0.503157</td>\n",
              "    </tr>\n",
              "  </tbody>\n",
              "</table>\n",
              "</div>"
            ],
            "text/plain": [
              "                          overall\n",
              "overall                  1.000000\n",
              "movement_reactions       0.864526\n",
              "mentality_composure      0.719992\n",
              "potential                0.646650\n",
              "value_eur                0.638230\n",
              "release_clause_eur       0.607130\n",
              "power_shot_power         0.567504\n",
              "mentality_vision         0.509251\n",
              "attacking_short_passing  0.503157"
            ]
          },
          "metadata": {},
          "execution_count": 219
        }
      ]
    },
    {
      "cell_type": "code",
      "metadata": {
        "id": "LdnrDsLHC5zc"
      },
      "source": [
        "#### TRAIN MODEL"
      ],
      "execution_count": 220,
      "outputs": []
    },
    {
      "cell_type": "code",
      "metadata": {
        "id": "FrDe5clKCUhb"
      },
      "source": [
        "#### select featutres\n",
        "\n",
        "X=fifa_20.drop(['overall'], axis=1)\n",
        "y=fifa_20['overall']\n"
      ],
      "execution_count": 221,
      "outputs": []
    },
    {
      "cell_type": "code",
      "metadata": {
        "id": "-4ytfJoQDyrS"
      },
      "source": [
        "### split data\n",
        "x_train,x_test,y_train, y_test = train_test_split( X, y, test_size = 0.2, random_state = 42)"
      ],
      "execution_count": 222,
      "outputs": []
    },
    {
      "cell_type": "code",
      "metadata": {
        "colab": {
          "base_uri": "https://localhost:8080/"
        },
        "id": "941OaEkrDA86",
        "outputId": "68367150-d708-4f63-e763-76bc7e61aa65"
      },
      "source": [
        "#####XGB BOOST\n",
        "\n",
        "from xgboost import XGBRegressor\n",
        "\n",
        "model = XGBRegressor()\n",
        "model.fit(x_train, y_train)\n"
      ],
      "execution_count": 223,
      "outputs": [
        {
          "output_type": "stream",
          "name": "stdout",
          "text": [
            "[15:00:51] WARNING: /workspace/src/objective/regression_obj.cu:152: reg:linear is now deprecated in favor of reg:squarederror.\n"
          ]
        },
        {
          "output_type": "execute_result",
          "data": {
            "text/plain": [
              "XGBRegressor()"
            ]
          },
          "metadata": {},
          "execution_count": 223
        }
      ]
    },
    {
      "cell_type": "code",
      "metadata": {
        "colab": {
          "base_uri": "https://localhost:8080/"
        },
        "id": "-7C6P1CHEuQv",
        "outputId": "bc0b0f5a-248b-4965-9561-0d935f570eb0"
      },
      "source": [
        "result = model.predict(x_test)\n",
        "result"
      ],
      "execution_count": 224,
      "outputs": [
        {
          "output_type": "execute_result",
          "data": {
            "text/plain": [
              "array([64.02376 , 74.225555, 68.52398 , ..., 58.849716, 53.854813,\n",
              "       67.88531 ], dtype=float32)"
            ]
          },
          "metadata": {},
          "execution_count": 224
        }
      ]
    },
    {
      "cell_type": "code",
      "metadata": {
        "colab": {
          "base_uri": "https://localhost:8080/"
        },
        "id": "AcQCT1CwFJaj",
        "outputId": "2ad7c9ea-a70e-4c70-e860-31f5e974d4ac"
      },
      "source": [
        "from sklearn.metrics import mean_absolute_error\n",
        "print(\"Mean Absolute Error : \" + str(mean_absolute_error(result, y_test)))"
      ],
      "execution_count": 225,
      "outputs": [
        {
          "output_type": "stream",
          "name": "stdout",
          "text": [
            "Mean Absolute Error : 0.4922191642828009\n"
          ]
        }
      ]
    },
    {
      "cell_type": "code",
      "metadata": {
        "colab": {
          "base_uri": "https://localhost:8080/"
        },
        "id": "D6MkicxCLgg7",
        "outputId": "13777ecb-0972-4ef8-d9d7-a5cb25de8554"
      },
      "source": [
        "from sklearn.model_selection import cross_val_score\n",
        "from sklearn.model_selection import RepeatedKFold\n",
        "from numpy import absolute\n",
        "\n",
        "cross_val =RepeatedKFold(n_splits=20, n_repeats=5, random_state=1)\n",
        "\n",
        "##evaluation of model\n",
        "scores = cross_val_score(model, x_test, y_test, scoring='neg_mean_absolute_error',cv=cross_val, n_jobs=-1)\n",
        "scores= absolute(scores)\n",
        "print('mean MAE:%.3f (%.3f)'%(scores.mean(), scores.std()) )"
      ],
      "execution_count": 226,
      "outputs": [
        {
          "output_type": "stream",
          "name": "stdout",
          "text": [
            "mean MAE:0.550 (0.034)\n"
          ]
        }
      ]
    },
    {
      "cell_type": "code",
      "metadata": {
        "colab": {
          "base_uri": "https://localhost:8080/"
        },
        "id": "JweZQMPfHEpq",
        "outputId": "dd71f2ed-7bc2-4d33-f247-a67d56a19b54"
      },
      "source": [
        "my_model = XGBRegressor(n_estimators=100)\n",
        "my_model.fit(x_train, y_train, early_stopping_rounds=7, \n",
        "             eval_set=[(x_test, y_test)], verbose=False)"
      ],
      "execution_count": 227,
      "outputs": [
        {
          "output_type": "stream",
          "name": "stdout",
          "text": [
            "[15:01:38] WARNING: /workspace/src/objective/regression_obj.cu:152: reg:linear is now deprecated in favor of reg:squarederror.\n"
          ]
        },
        {
          "output_type": "execute_result",
          "data": {
            "text/plain": [
              "XGBRegressor()"
            ]
          },
          "metadata": {},
          "execution_count": 227
        }
      ]
    },
    {
      "cell_type": "code",
      "metadata": {
        "id": "8lH6pXb1Xzpg"
      },
      "source": [
        "## Links\n",
        "\n",
        "https://colab.research.google.com/drive/1y-5SrqwQCUEgiwJC0GywP0uGbjvR1Ya2?usp=sharing"
      ],
      "execution_count": 239,
      "outputs": []
    }
  ]
}